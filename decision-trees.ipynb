{
 "cells": [
  {
   "cell_type": "markdown",
   "metadata": {},
   "source": [
    "# Problem Description.\n",
    "\n",
    "The task of this project is to develop an ASP encoding for\n",
    "learning binary decision trees from a set of examples.\n",
    "\n",
    "Every example may be positive or negative, \n",
    "and is associated with a set of attributes that hold in the example.\n",
    "\n",
    "In our running example, \n",
    "the following table shows 6 examples over 22 attributes:\n",
    "* example 1 is positive and has attributes 3, 4, 8, 9, 13, 14 and 22,\n",
    "* example 2 is negative and has only attribute 13, and so on...\n",
    "\n",
    "Example | Class | 1 | 2 | 3 | 4 | 5 | 6 | 7 | 8 | 9 | 10 | 11 | 12 | 13 | 14 | ... | 20 | 21 | 22 \n",
    "--- | --- | --- | --- | --- | --- | --- | --- | --- | --- | --- | --- | --- | --- | --- | --- | --- | --- | --- | --- \n",
    "1 | pos | | | X| X| | | | X| X| | | |  X|  X| | | | X|    \n",
    "2 | neg | | |  |  | | | |  |  | | | |  X|   | | | |  |    \n",
    "3 | pos | X| | X| | X| | | X| | X| | | X| | | | | |    \n",
    "4 | neg | | | | | | | | | X| | | | | X| | | | |    \n",
    "5 | pos | | | | | | | | | | | X| | | | | X| X| X|    \n",
    "6 | neg | | | | X| | | | | | | | | | | | | | |    \n",
    "\n",
    "The goal of this learning problem is to find a decision tree that \n",
    "classifies correctly (as positive or negative) all the examples.\n",
    "\n",
    "In this project, the input also provides a parameter `n` that\n",
    "fixes the number of nodes of the learned decision tree. \n",
    "\n",
    "A decision tree is a binary directed tree.\n",
    "Each leaf is labeled as either positive or negative.\n",
    "Each of the remaining nodes is labeled by a single attribute.\n",
    "One of its outgoing edges is associated with the case where the attribute holds, and \n",
    "the other outgoing edge is associated with the case where the attribute does not hold.\n",
    "\n",
    "We make two restrictions on the form of decision trees:\n",
    "* an attribute cannot occur more than once in some path from the root to a leaf, and\n",
    "* two leaves of the same parent cannot have the same label.\n",
    "\n",
    "A decision tree maps each example to the (unique) path from the root to a leaf\n",
    "such that the edges agree with the attributes that hold in the example.\n",
    "Then, the decision tree classifies each example according to the label of that leaf.\n",
    "Finally, the decision tree solves the learning problem if it classifies correctly all given examples.\n",
    "\n",
    "The next image shows a decision tree that solves our problem.\n",
    "\n",
    "<img width=\"175\" height=\"125\" src=\"img/decision-tree-19.png\">\n",
    "\n",
    "Green edges represent the case where an attribute holds, \n",
    "while red edges represent the other case.\n",
    "\n",
    "This decision tree first decides on attribute 1.\n",
    "\n",
    "If it holds, then the example belongs to the positive class (this classifies example 3).\n",
    "\n",
    "Otherwise, the tree decides on attribute 22.\n",
    "\n",
    "If it holds, then the example belongs to the positive class (this classifies examples 1 and 5), \n",
    "and otherwise the example belongs to the negative class (this classifies examples 2, 4 and 6).\n",
    "\n",
    "If we replaced attribute 22 by attribute 14, for instance, \n",
    "then the tree would not solve our problem because it would classify \n",
    "example 4 as positive and example 5 as negative.\n",
    "\n",
    "There are other decision trees that explain our set of examples, but all of them have at least 5 nodes.\n"
   ]
  },
  {
   "cell_type": "markdown",
   "metadata": {},
   "source": [
    "# Representation in ASP.\n",
    "\n",
    "The examples are represented by facts over the following predicates:    \n",
    "```\n",
    "example(E,C). % example E belongs to class C (where C can be either pos or neg) \n",
    "  holds(E,A). % in example E the attribute A holds\n",
    "```\n",
    "Every problem instance also contains a constant declaration of the form\n",
    "```\n",
    "#const n=v.\n",
    "```\n",
    "for some **odd** integer `v`, \n",
    "that fixes the number of nodes of the tree.\n",
    "\n",
    "Our running example is represented as follows:\n",
    "```\n",
    "#const n=5.\n",
    "example(1,pos). holds(1,3). holds(1,4). holds(1,8). holds(1,9). holds(1,13). holds(1,14). holds(1,22).\n",
    "example(2,neg). holds(2,13).\n",
    "example(3,pos). holds(3,1). holds(3,3). holds(3,5). holds(3,8). holds(3,10). holds(3,13).\n",
    "example(4,neg). holds(4,9). holds(4,14).\n",
    "example(5,pos). holds(5,11). holds(5,20). holds(5,21). holds(5,22).\n",
    "example(6,neg). holds(6,4).\n",
    "```\n",
    "\n",
    "A solution is represented by atoms over the following predicates:  \n",
    "```\n",
    "edge(X,Y).    % there is an edge between node X and node Y\n",
    "decision(N,A) % node N decides on attribute A\n",
    "positive(N).  % node N is assigned to the positive class\n",
    "```   \n",
    "Predicate `edge/2` defines the form of the tree, while `decision/2` and `positive/1` assign the labels.\n",
    "\n",
    "The solution of our example consists of the following atoms:\n",
    "```\n",
    "edge(1,2) edge(1,3) edge(2,4) edge(2,5) \n",
    "decision(1,1) decision(2,22) positive(3) positive(5) \n",
    "```\n",
    "\n",
    "Above we have stated two restrictions on the form of the trees:\n",
    "* an attribute cannot occur more than once in some path from the root to a leaf, and\n",
    "* two leaves of the same parent cannot have the same label.\n",
    "\n",
    "In our representation in ASP, nodes are identified by numbers from `1` to `n`. \n",
    "To reduce the number of possible solutions, we consider the following \n",
    "additional restrictions:\n",
    "* the root is number `1`,\n",
    "* the (two) children of a node X must be consecutive nodes bigger than X;\n",
    "* the smallest child of a node is associated with the case where the attribute of the node does not hold, \n",
    "  and the biggest children is associated with the case where the attribute holds;\n",
    "* if X and Y are two nodes and X is smaller than Y, then the children of X are also smaller than the children of Y.\n",
    "\n",
    "According to this, the root `1` has always children `2` and `3`.\n",
    "In fact, there is a unique unlabeled tree of `3` nodes,\n",
    "and there are exactly two unlabeled trees of `5` nodes.\n",
    "You can find all unlabeled trees of sizes `3`, `5`, `7`, `9` and `11` in the folder `asp/trees`.\n",
    "See below how to visualize them."
   ]
  },
  {
   "cell_type": "markdown",
   "metadata": {},
   "source": [
    "# Visualization\n",
    "\n",
    "You can use clingraph to visualize the unlabeled trees as well as the decision trees:\n",
    "* https://github.com/potassco/clingraph\n",
    "\n",
    "For example, you can visualize the unlabeled trees of `5` nodes with this command:"
   ]
  },
  {
   "cell_type": "code",
   "execution_count": null,
   "metadata": {
    "tags": []
   },
   "outputs": [],
   "source": [
    "! cat asp/trees/n_equals_05.json | clingraph --viz-encoding=asp/tree_viz.lp --out=render --format=png --dir img --name-format=tree-{model_number}"
   ]
  },
  {
   "cell_type": "markdown",
   "metadata": {},
   "source": [
    "It generates the following images:\n",
    "\n",
    "<img src=\"img/tree-0.png\" alt=\"Image 1\" width=\"200\" height=\"150\"> <img src=\"img/tree-1.png\" alt=\"Image 2\" width=\"200\" height=\"150\">\n",
    "\n",
    "Note that clingraph does not print the children of a node in order.\n",
    "For example, in those images, node `3` occurs to the left of node `2`."
   ]
  },
  {
   "cell_type": "markdown",
   "metadata": {},
   "source": [
    "Once you have an encoding that generates unlabeled trees, you can visualize the answers with this command:"
   ]
  },
  {
   "cell_type": "code",
   "execution_count": null,
   "metadata": {},
   "outputs": [],
   "source": [
    "! clingo -c n=5 asp/decision-trees.lp 0 --outf=2 | clingraph --viz-encoding=asp/tree_viz.lp --out=render --format=png --dir img --name-format=tree-{model_number}"
   ]
  },
  {
   "cell_type": "markdown",
   "metadata": {},
   "source": [
    "The solutions of our running example can be visualized with this command:"
   ]
  },
  {
   "cell_type": "code",
   "execution_count": null,
   "metadata": {},
   "outputs": [],
   "source": [
    "! cat asp/solutions/instance-06-05.json | clingraph --viz-encoding=asp/viz.lp --out=render --format=png --dir img --name-format=decision-tree-{model_number}"
   ]
  },
  {
   "cell_type": "markdown",
   "metadata": {},
   "source": [
    "The first image of this notebook was generated like that. \n",
    "\n",
    "Once you have your final encoding, you can visualize the answers with this command:"
   ]
  },
  {
   "cell_type": "code",
   "execution_count": null,
   "metadata": {
    "tags": []
   },
   "outputs": [],
   "source": [
    "! clingo asp/decision-trees.lp asp/instances/instance-06-05.lp 0 --outf=2 | clingraph --viz-encoding=asp/viz.lp --out=render --format=png --dir img --name-format=decision-tree-{model_number}"
   ]
  },
  {
   "cell_type": "markdown",
   "metadata": {},
   "source": [
    "# Framework.\n",
    "\n",
    "The directory ``asp`` contains the files that you need for the project. In the directory ``asp/instances`` you can find the instances (our example is ``instance-06-05.lp``), and in the directory ``asp/solutions`` you can find their solutions in ``json`` format. \n",
    "\n",
    "You have to submit a file named ``decision-trees.lp``, included as a template in the directory ``asp``, that contains the following line (and no more ``#show`` statements) so that in the output only the atoms of predicates ``edge/2``, ``decision/2`` and ``positive/1`` appear:\n",
    "\n",
    "```\n",
    "#show edge/2.\n",
    "#show decision/2.\n",
    "#show positive/1.\n",
    "```\n",
    "\n",
    "You can check if your encoding solves correctly all instances by running the ``Python`` script ``test.py`` as follows:\n",
    "* ``python asp/test.py -e asp/decision-trees.lp -i asp/instances -s asp/solutions -t 180``\n",
    "\n",
    "**NOTE: The script ``test.py`` is not available yet, but we will upload it soon.**\n",
    "\n",
    "In this case, the timeout for each instance is set to `180` seconds, but you can use any other value instead.\n",
    "\n",
    "For help, type `python asp/test.py --help`.\n",
    "\n",
    "We recommend you to work locally in your computer, using your own installation of ``clingo``.\n",
    "\n",
    "For this, you can run the next cell to generate a zip file of this directory. The zip file will be stored in the parent directory with the name `decision-trees.zip`. You can click on the folder symbol at the left of the screen to look for it and download it."
   ]
  },
  {
   "cell_type": "code",
   "execution_count": null,
   "metadata": {
    "tags": []
   },
   "outputs": [],
   "source": [
    "import os\n",
    "from shutil import make_archive\n",
    "make_archive('../decision-trees', 'zip', os.getcwd())"
   ]
  },
  {
   "cell_type": "markdown",
   "metadata": {},
   "source": [
    "You can also run your encoding in the next cell. It is not recommended to work in this notebook at ``Binder``, but if you do it, remember to download the files that you modify to your computer, otherwise you will lose your changes."
   ]
  },
  {
   "cell_type": "code",
   "execution_count": null,
   "metadata": {},
   "outputs": [],
   "source": [
    "%%clingo 0 asp/instances/instance-06-05.lp -\n",
    "\n",
    "node(1..n).\n",
    "\n",
    "% Your encoding please...\n",
    "\n",
    "#show edge/2.\n",
    "#show decision/2.\n",
    "#show positive/1."
   ]
  },
  {
   "cell_type": "markdown",
   "metadata": {},
   "source": [
    "# Formalities.\n",
    "You can work on the solution alone or in groups of two people. \n",
    "Different groups have to submit different solutions, in case\n",
    "of plagiarism all groups involved will fail the project. \n",
    "\n",
    "Your solution should represent correctly all solutions for every instance, \n",
    "but you can still pass the project if some instances are not solved within\n",
    "the time limit.\n",
    "This is tested automatically by the script ``test.py``. \n",
    "\n",
    "We will send you further instructions about the submission process from Moodle."
   ]
  },
  {
   "cell_type": "markdown",
   "metadata": {},
   "source": [
    "# Tips:\n",
    "\n",
    "* First, write an encoding that generates unlabeled trees, and \n",
    "  check that it generates the solutions in `asp/trees` for `n=3,5,7,9,11`.\n",
    "  \n",
    "* Then, extend the encoding to represent decision trees, \n",
    "  and try it with the smallest instances in `asp/instances` one by one. \n",
    "  Only once this works, you should try all instances using the script `test.py`.\n",
    "  \n",
    "* If you are stuck you can contact us. We will do out best to answer all your questions. You can send us questions and remarks either via Moodle or by email.\n",
    "\n",
    "* Start as soon as possible to avoid running out of time. However, if you still realize that you have problems making it before the deadline, please contact us instead of copying another solution."
   ]
  }
 ],
 "metadata": {
  "kernelspec": {
   "display_name": "Python 3",
   "language": "python",
   "name": "python3"
  },
  "language_info": {
   "codemirror_mode": {
    "name": "ipython",
    "version": 3
   },
   "file_extension": ".py",
   "mimetype": "text/x-python",
   "name": "python",
   "nbconvert_exporter": "python",
   "pygments_lexer": "ipython3",
   "version": "3.9.18"
  }
 },
 "nbformat": 4,
 "nbformat_minor": 4
}
